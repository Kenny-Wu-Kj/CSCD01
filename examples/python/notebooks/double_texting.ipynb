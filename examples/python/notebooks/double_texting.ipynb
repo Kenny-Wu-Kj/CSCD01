{
 "cells": [
  {
   "cell_type": "markdown",
   "id": "51466c8d-8ce4-4b3d-be4e-18fdbeda5f53",
   "metadata": {},
   "source": [
    "# How to handle \"double-texting\" or concurrent runs in your graph\n",
    "\n",
    "You might want to start a new run on a thread while the previous run still haven't finished. We call this \"double-texting\" or multi-tasking.\n",
    "\n",
    "There are several strategies for handling this:\n",
    " \n",
    "- `reject`: Reject the new run.\n",
    "- `interrupt`: Interrupt the current run, keeping steps completed until now, and start a new one.\n",
    "- `rollback`: Cancel and delete the existing run, rolling back the thread to the state before it had started, then start the new run.\n",
    "- `enqueue`: Queue up the new run to start after the current run finishes."
   ]
  },
  {
   "cell_type": "markdown",
   "id": "19fd3d4d-bfe3-40fb-bd47-53ae0e8012b5",
   "metadata": {},
   "source": [
    "### Reject"
   ]
  },
  {
   "cell_type": "code",
   "execution_count": 1,
   "id": "676d8d5d-e4be-4f19-b344-7525db8e805b",
   "metadata": {},
   "outputs": [],
   "source": [
    "from langgraph_sdk import get_client\n",
    "from langchain_core.messages import convert_to_messages\n",
    "import httpx"
   ]
  },
  {
   "cell_type": "code",
   "execution_count": 2,
   "id": "8a15b47d-d3ac-4aa8-8bf1-35c20fc5067f",
   "metadata": {},
   "outputs": [],
   "source": [
    "client = get_client()"
   ]
  },
  {
   "cell_type": "code",
   "execution_count": 3,
   "id": "2b58be44-a311-487e-a91b-353a3e6a4e13",
   "metadata": {},
   "outputs": [],
   "source": [
    "assistant = await client.assistants.create(\"agent\")"
   ]
  },
  {
   "cell_type": "code",
   "execution_count": 4,
   "id": "39cb7234-1fd7-4fda-a708-da26e4f00556",
   "metadata": {},
   "outputs": [],
   "source": [
    "thread = await client.threads.create()"
   ]
  },
  {
   "cell_type": "code",
   "execution_count": 5,
   "id": "6065166a-337e-4443-9c87-53a865356191",
   "metadata": {},
   "outputs": [],
   "source": [
    "run = await client.runs.create(\n",
    "    thread[\"thread_id\"],\n",
    "    assistant[\"assistant_id\"],\n",
    "    input={\"messages\": [{\"role\": \"human\", \"content\": \"whats the weather in sf?\"}]}\n",
    ")"
   ]
  },
  {
   "cell_type": "code",
   "execution_count": 6,
   "id": "bef2fb51-ece2-4152-8399-d3d902377d95",
   "metadata": {},
   "outputs": [
    {
     "name": "stdout",
     "output_type": "stream",
     "text": [
      "Failed to start concurrent run Client error '409 Conflict' for url 'http://localhost:8123/threads/6645ef70-3f29-424b-bc47-26839d60e49d/runs'\n",
      "For more information check: https://developer.mozilla.org/en-US/docs/Web/HTTP/Status/409\n"
     ]
    }
   ],
   "source": [
    "try:\n",
    "    await client.runs.create(\n",
    "        thread[\"thread_id\"],\n",
    "        assistant[\"assistant_id\"],\n",
    "        input={\"messages\": [{\"role\": \"human\", \"content\": \"whats the weather in nyc?\"}]},\n",
    "        multitask_strategy=\"reject\",\n",
    "    )\n",
    "except httpx.HTTPStatusError as e:\n",
    "    print(\"Failed to start concurrent run\", e)"
   ]
  },
  {
   "cell_type": "markdown",
   "id": "cfc9f025-027f-4617-abad-4722ca6fea87",
   "metadata": {},
   "source": [
    "We can verify that the original thread finished executing:"
   ]
  },
  {
   "cell_type": "code",
   "execution_count": 7,
   "id": "094d2ee5-d01e-40ad-875b-3213705ee703",
   "metadata": {},
   "outputs": [],
   "source": [
    "# wait until the original run completes\n",
    "await client.runs.join(thread[\"thread_id\"], run[\"run_id\"])"
   ]
  },
  {
   "cell_type": "code",
   "execution_count": 8,
   "id": "2694e2ac-e02c-443c-b70e-748c779103af",
   "metadata": {},
   "outputs": [],
   "source": [
    "state = await client.threads.get_state(thread[\"thread_id\"])"
   ]
  },
  {
   "cell_type": "code",
   "execution_count": 9,
   "id": "a6ec9609-ab97-4c6d-89f3-717240f244cc",
   "metadata": {},
   "outputs": [
    {
     "name": "stdout",
     "output_type": "stream",
     "text": [
      "================================\u001b[1m Human Message \u001b[0m=================================\n",
      "\n",
      "whats the weather in sf?\n",
      "==================================\u001b[1m Ai Message \u001b[0m==================================\n",
      "\n",
      "[{'id': 'toolu_01WkksaEhUW41Qtj5PrcsyGe', 'input': {'query': 'weather in san francisco'}, 'name': 'tavily_search_results_json', 'type': 'tool_use'}]\n",
      "Tool Calls:\n",
      "  tavily_search_results_json (toolu_01WkksaEhUW41Qtj5PrcsyGe)\n",
      " Call ID: toolu_01WkksaEhUW41Qtj5PrcsyGe\n",
      "  Args:\n",
      "    query: weather in san francisco\n",
      "=================================\u001b[1m Tool Message \u001b[0m=================================\n",
      "Name: tavily_search_results_json\n",
      "\n",
      "[{\"url\": \"https://www.weatherapi.com/\", \"content\": \"{'location': {'name': 'San Francisco', 'region': 'California', 'country': 'United States of America', 'lat': 37.78, 'lon': -122.42, 'tz_id': 'America/Los_Angeles', 'localtime_epoch': 1718324566, 'localtime': '2024-06-13 17:22'}, 'current': {'last_updated_epoch': 1718324100, 'last_updated': '2024-06-13 17:15', 'temp_c': 16.7, 'temp_f': 62.1, 'is_day': 1, 'condition': {'text': 'Partly cloudy', 'icon': '//cdn.weatherapi.com/weather/64x64/day/116.png', 'code': 1003}, 'wind_mph': 12.5, 'wind_kph': 20.2, 'wind_degree': 270, 'wind_dir': 'W', 'pressure_mb': 1016.0, 'pressure_in': 29.99, 'precip_mm': 0.0, 'precip_in': 0.0, 'humidity': 65, 'cloud': 25, 'feelslike_c': 16.7, 'feelslike_f': 62.1, 'windchill_c': 12.9, 'windchill_f': 55.2, 'heatindex_c': 14.3, 'heatindex_f': 57.7, 'dewpoint_c': 9.8, 'dewpoint_f': 49.6, 'vis_km': 16.0, 'vis_miles': 9.0, 'uv': 4.0, 'gust_mph': 18.1, 'gust_kph': 29.1}}\"}]\n",
      "==================================\u001b[1m Ai Message \u001b[0m==================================\n",
      "\n",
      "Based on the weather API results, the current weather in San Francisco is partly cloudy with a temperature of around 62°F (17°C). There are some winds around 12-13 mph from the west. Overall, mild spring weather conditions.\n"
     ]
    }
   ],
   "source": [
    "for m in convert_to_messages(state[\"values\"][\"messages\"]):\n",
    "    m.pretty_print()"
   ]
  },
  {
   "cell_type": "markdown",
   "id": "73d23fc7-cb94-4378-b64b-85419534b913",
   "metadata": {},
   "source": [
    "### Cancel"
   ]
  },
  {
   "cell_type": "code",
   "execution_count": 10,
   "id": "4f181881-e116-43e2-86de-797714184984",
   "metadata": {},
   "outputs": [],
   "source": [
    "import asyncio"
   ]
  },
  {
   "cell_type": "code",
   "execution_count": 11,
   "id": "0af0b820-2d88-4e5d-b377-1ac5af4df5da",
   "metadata": {},
   "outputs": [],
   "source": [
    "thread = await client.threads.create()"
   ]
  },
  {
   "cell_type": "code",
   "execution_count": 12,
   "id": "b582d05f-46de-4cce-bf5c-744fd3253ae9",
   "metadata": {},
   "outputs": [],
   "source": [
    "# the first run will be interrupted\n",
    "interrupted_run = await client.runs.create(\n",
    "    thread[\"thread_id\"], assistant[\"assistant_id\"],\n",
    "    # NOTE: we add a sleep here on purpose, so that we interrupt the run before the LLM is called\n",
    "    input={\"messages\": [{\"role\": \"human\", \"content\": \"whats the weather in sf?\"}], \"sleep\": 5},\n",
    ")\n",
    "await asyncio.sleep(1)\n",
    "run = await client.runs.create(\n",
    "    thread[\"thread_id\"],\n",
    "    assistant[\"assistant_id\"],\n",
    "    input={\"messages\": [{\"role\": \"human\", \"content\": \"whats the weather in nyc?\"}]},\n",
    "    multitask_strategy=\"interrupt\",\n",
    ")"
   ]
  },
  {
   "cell_type": "code",
   "execution_count": 13,
   "id": "3b3bee45-cbe6-4903-bed2-067768260677",
   "metadata": {},
   "outputs": [],
   "source": [
    "# wait until the second run completes\n",
    "await client.runs.join(thread[\"thread_id\"], run[\"run_id\"])"
   ]
  },
  {
   "cell_type": "markdown",
   "id": "da18ceb0-ed98-49c8-89fb-df4cb0da9c4f",
   "metadata": {},
   "source": [
    "We can see that the thread has partial data from the first run + data from the second run"
   ]
  },
  {
   "cell_type": "code",
   "execution_count": 14,
   "id": "71ca7222-6b92-4f8a-ad0f-bf599e5bf9ce",
   "metadata": {},
   "outputs": [],
   "source": [
    "state = await client.threads.get_state(thread[\"thread_id\"])"
   ]
  },
  {
   "cell_type": "code",
   "execution_count": 15,
   "id": "e1ea9694-e011-4a60-a72e-5f496fc52cd9",
   "metadata": {},
   "outputs": [
    {
     "name": "stdout",
     "output_type": "stream",
     "text": [
      "================================\u001b[1m Human Message \u001b[0m=================================\n",
      "\n",
      "whats the weather in sf?\n",
      "================================\u001b[1m Human Message \u001b[0m=================================\n",
      "\n",
      "whats the weather in nyc?\n",
      "==================================\u001b[1m Ai Message \u001b[0m==================================\n",
      "\n",
      "[{'id': 'toolu_01HbWybk3Hiv4K55QAgrgSVW', 'input': {'query': 'weather in san francisco'}, 'name': 'tavily_search_results_json', 'type': 'tool_use'}]\n",
      "Tool Calls:\n",
      "  tavily_search_results_json (toolu_01HbWybk3Hiv4K55QAgrgSVW)\n",
      " Call ID: toolu_01HbWybk3Hiv4K55QAgrgSVW\n",
      "  Args:\n",
      "    query: weather in san francisco\n",
      "=================================\u001b[1m Tool Message \u001b[0m=================================\n",
      "Name: tavily_search_results_json\n",
      "\n",
      "[{\"url\": \"https://www.weatherapi.com/\", \"content\": \"{'location': {'name': 'San Francisco', 'region': 'California', 'country': 'United States of America', 'lat': 37.78, 'lon': -122.42, 'tz_id': 'America/Los_Angeles', 'localtime_epoch': 1718324566, 'localtime': '2024-06-13 17:22'}, 'current': {'last_updated_epoch': 1718324100, 'last_updated': '2024-06-13 17:15', 'temp_c': 16.7, 'temp_f': 62.1, 'is_day': 1, 'condition': {'text': 'Partly cloudy', 'icon': '//cdn.weatherapi.com/weather/64x64/day/116.png', 'code': 1003}, 'wind_mph': 12.5, 'wind_kph': 20.2, 'wind_degree': 270, 'wind_dir': 'W', 'pressure_mb': 1016.0, 'pressure_in': 29.99, 'precip_mm': 0.0, 'precip_in': 0.0, 'humidity': 65, 'cloud': 25, 'feelslike_c': 16.7, 'feelslike_f': 62.1, 'windchill_c': 12.9, 'windchill_f': 55.2, 'heatindex_c': 14.3, 'heatindex_f': 57.7, 'dewpoint_c': 9.8, 'dewpoint_f': 49.6, 'vis_km': 16.0, 'vis_miles': 9.0, 'uv': 4.0, 'gust_mph': 18.1, 'gust_kph': 29.1}}\"}]\n",
      "==================================\u001b[1m Ai Message \u001b[0m==================================\n",
      "\n",
      "[{'text': '<search_quality_reflection>\\nThe search results provide current weather information for San Francisco, including temperature, wind, precipitation, and other details. This should give a good overview of the weather conditions there.\\n</search_quality_reflection>\\n\\n<search_quality_score>5</search_quality_score>', 'type': 'text'}, {'id': 'toolu_015yP4FGBNJAGC85LjPPGbLm', 'input': {'query': 'weather in new york city'}, 'name': 'tavily_search_results_json', 'type': 'tool_use'}]\n",
      "Tool Calls:\n",
      "  tavily_search_results_json (toolu_015yP4FGBNJAGC85LjPPGbLm)\n",
      " Call ID: toolu_015yP4FGBNJAGC85LjPPGbLm\n",
      "  Args:\n",
      "    query: weather in new york city\n",
      "=================================\u001b[1m Tool Message \u001b[0m=================================\n",
      "Name: tavily_search_results_json\n",
      "\n",
      "[{\"url\": \"https://www.weatherapi.com/\", \"content\": \"{'location': {'name': 'New York', 'region': 'New York', 'country': 'United States of America', 'lat': 40.71, 'lon': -74.01, 'tz_id': 'America/New_York', 'localtime_epoch': 1718324657, 'localtime': '2024-06-13 20:24'}, 'current': {'last_updated_epoch': 1718324100, 'last_updated': '2024-06-13 20:15', 'temp_c': 24.4, 'temp_f': 75.9, 'is_day': 1, 'condition': {'text': 'Sunny', 'icon': '//cdn.weatherapi.com/weather/64x64/day/113.png', 'code': 1000}, 'wind_mph': 2.2, 'wind_kph': 3.6, 'wind_degree': 177, 'wind_dir': 'S', 'pressure_mb': 1015.0, 'pressure_in': 29.98, 'precip_mm': 0.0, 'precip_in': 0.0, 'humidity': 62, 'cloud': 0, 'feelslike_c': 25.7, 'feelslike_f': 78.3, 'windchill_c': 25.0, 'windchill_f': 77.0, 'heatindex_c': 26.1, 'heatindex_f': 79.1, 'dewpoint_c': 16.2, 'dewpoint_f': 61.2, 'vis_km': 16.0, 'vis_miles': 9.0, 'uv': 6.0, 'gust_mph': 20.2, 'gust_kph': 32.5}}\"}]\n",
      "==================================\u001b[1m Ai Message \u001b[0m==================================\n",
      "\n",
      "<search_quality_reflection>\n",
      "The search results provide the current weather details for New York City, including temperature, wind, sun/cloud conditions, and other relevant data points. This gives a comprehensive picture of the weather situation there.\n",
      "</search_quality_reflection>\n",
      "\n",
      "<search_quality_score>5</search_quality_score>\n",
      "\n",
      "<result>\n",
      "Here are the current weather conditions in San Francisco and New York City:\n",
      "\n",
      "San Francisco:\n",
      "- Temperature: 62°F (17°C)\n",
      "- Conditions: Partly cloudy\n",
      "- Wind: 12 mph (20 kph) from the West\n",
      "- Humidity: 65%\n",
      "- Feels like: 62°F (17°C)\n",
      "\n",
      "New York City: \n",
      "- Temperature: 76°F (24°C)\n",
      "- Conditions: Sunny\n",
      "- Wind: 2 mph (4 kph) from the South  \n",
      "- Humidity: 62%\n",
      "- Feels like: 78°F (26°C)\n",
      "\n",
      "So it's a partly cloudy and mild day in San Francisco, while New York City is sunny and warmer. Let me know if you need any other details!\n",
      "</result>\n"
     ]
    }
   ],
   "source": [
    "for m in convert_to_messages(state[\"values\"][\"messages\"]):\n",
    "    m.pretty_print()"
   ]
  },
  {
   "cell_type": "markdown",
   "id": "aeea6251-f6b7-4395-9c47-7a0537a8a76a",
   "metadata": {},
   "source": [
    "Verify that the original, interrupted run was interrupted"
   ]
  },
  {
   "cell_type": "code",
   "execution_count": 16,
   "id": "f9f275ad-41a5-4b6b-a710-9ca1d0d3e903",
   "metadata": {},
   "outputs": [
    {
     "data": {
      "text/plain": [
       "'interrupted'"
      ]
     },
     "execution_count": 16,
     "metadata": {},
     "output_type": "execute_result"
    }
   ],
   "source": [
    "(await client.runs.get(thread[\"thread_id\"], interrupted_run[\"run_id\"]))[\"status\"]"
   ]
  },
  {
   "cell_type": "markdown",
   "id": "a5b91ae9-cb18-454b-a9ca-24f6ef6be8c6",
   "metadata": {},
   "source": [
    "### Rollback"
   ]
  },
  {
   "cell_type": "code",
   "execution_count": 17,
   "id": "9df4d417-f645-4ae5-a74a-f243cf223a4d",
   "metadata": {},
   "outputs": [],
   "source": [
    "thread = await client.threads.create()"
   ]
  },
  {
   "cell_type": "code",
   "execution_count": 18,
   "id": "0637dda6-1cf4-4e28-962a-d12410139575",
   "metadata": {},
   "outputs": [],
   "source": [
    "# the first run will be interrupted\n",
    "rolled_back_run = await client.runs.create(\n",
    "    thread[\"thread_id\"], assistant[\"assistant_id\"],\n",
    "    # NOTE: we add a sleep here on purpose, so that we interrupt the run before the LLM is called\n",
    "    input={\"messages\": [{\"role\": \"human\", \"content\": \"whats the weather in sf?\"}], \"sleep\": 5},\n",
    ")\n",
    "await asyncio.sleep(1)\n",
    "run = await client.runs.create(\n",
    "    thread[\"thread_id\"],\n",
    "    assistant[\"assistant_id\"],\n",
    "    input={\"messages\": [{\"role\": \"human\", \"content\": \"whats the weather in nyc?\"}]},\n",
    "    multitask_strategy=\"rollback\",\n",
    ")"
   ]
  },
  {
   "cell_type": "code",
   "execution_count": 19,
   "id": "764390cd-3f76-4d9d-80c5-9d12805f161c",
   "metadata": {},
   "outputs": [],
   "source": [
    "# wait until the second run completes\n",
    "await client.runs.join(thread[\"thread_id\"], run[\"run_id\"])"
   ]
  },
  {
   "cell_type": "markdown",
   "id": "490359c8-7faa-441f-90d5-f1f38e20d567",
   "metadata": {},
   "source": [
    "We can see that the thread has data only from the second run"
   ]
  },
  {
   "cell_type": "code",
   "execution_count": 20,
   "id": "794aa45e-50af-4bfc-8baf-f60c456154d6",
   "metadata": {},
   "outputs": [],
   "source": [
    "state = await client.threads.get_state(thread[\"thread_id\"])"
   ]
  },
  {
   "cell_type": "code",
   "execution_count": 21,
   "id": "6e2008a2-befa-433f-b893-725c83f35227",
   "metadata": {},
   "outputs": [
    {
     "name": "stdout",
     "output_type": "stream",
     "text": [
      "================================\u001b[1m Human Message \u001b[0m=================================\n",
      "\n",
      "whats the weather in nyc?\n",
      "==================================\u001b[1m Ai Message \u001b[0m==================================\n",
      "\n",
      "[{'id': 'toolu_01EmFtimGE2uLKbrVo65zsN1', 'input': {'query': 'weather in nyc'}, 'name': 'tavily_search_results_json', 'type': 'tool_use'}]\n",
      "Tool Calls:\n",
      "  tavily_search_results_json (toolu_01EmFtimGE2uLKbrVo65zsN1)\n",
      " Call ID: toolu_01EmFtimGE2uLKbrVo65zsN1\n",
      "  Args:\n",
      "    query: weather in nyc\n",
      "=================================\u001b[1m Tool Message \u001b[0m=================================\n",
      "Name: tavily_search_results_json\n",
      "\n",
      "[{\"url\": \"https://www.weatherapi.com/\", \"content\": \"{'location': {'name': 'New York', 'region': 'New York', 'country': 'United States of America', 'lat': 40.71, 'lon': -74.01, 'tz_id': 'America/New_York', 'localtime_epoch': 1718324657, 'localtime': '2024-06-13 20:24'}, 'current': {'last_updated_epoch': 1718324100, 'last_updated': '2024-06-13 20:15', 'temp_c': 24.4, 'temp_f': 75.9, 'is_day': 1, 'condition': {'text': 'Sunny', 'icon': '//cdn.weatherapi.com/weather/64x64/day/113.png', 'code': 1000}, 'wind_mph': 2.2, 'wind_kph': 3.6, 'wind_degree': 177, 'wind_dir': 'S', 'pressure_mb': 1015.0, 'pressure_in': 29.98, 'precip_mm': 0.0, 'precip_in': 0.0, 'humidity': 62, 'cloud': 0, 'feelslike_c': 25.7, 'feelslike_f': 78.3, 'windchill_c': 25.0, 'windchill_f': 77.0, 'heatindex_c': 26.1, 'heatindex_f': 79.1, 'dewpoint_c': 16.2, 'dewpoint_f': 61.2, 'vis_km': 16.0, 'vis_miles': 9.0, 'uv': 6.0, 'gust_mph': 20.2, 'gust_kph': 32.5}}\"}]\n",
      "==================================\u001b[1m Ai Message \u001b[0m==================================\n",
      "\n",
      "Based on the weather API results, the current weather in New York City is sunny with a temperature of around 75°F (24°C). The wind is light at around 2-3 mph from the south. Overall it looks like pleasant late spring/early summer weather in NYC.\n"
     ]
    }
   ],
   "source": [
    "for m in convert_to_messages(state[\"values\"][\"messages\"]):\n",
    "    m.pretty_print()"
   ]
  },
  {
   "cell_type": "markdown",
   "id": "035e5ec4-7ffc-4233-8755-d77109ab2f2e",
   "metadata": {},
   "source": [
    "Verify that the original, rolled back run was deleted"
   ]
  },
  {
   "cell_type": "code",
   "execution_count": 22,
   "id": "7bd408cb-cd8f-4eee-b898-b883fe6a17c6",
   "metadata": {},
   "outputs": [
    {
     "name": "stdout",
     "output_type": "stream",
     "text": [
      "Original run was correctly deleted\n"
     ]
    }
   ],
   "source": [
    "try:\n",
    "    await client.runs.get(thread[\"thread_id\"], rolled_back_run[\"run_id\"])\n",
    "except httpx.HTTPStatusError as e:\n",
    "    print(\"Original run was correctly deleted\")"
   ]
  },
  {
   "cell_type": "markdown",
   "id": "69accf95-8480-491a-927a-d7d19d498143",
   "metadata": {},
   "source": [
    "### Enqueue"
   ]
  },
  {
   "cell_type": "code",
   "execution_count": 23,
   "id": "86e7269b-f3f8-4dda-8260-f4522394e36a",
   "metadata": {},
   "outputs": [],
   "source": [
    "thread = await client.threads.create()"
   ]
  },
  {
   "cell_type": "code",
   "execution_count": 24,
   "id": "3bb7b6d0-0999-4541-98b5-d058a3f45333",
   "metadata": {},
   "outputs": [],
   "source": [
    "# this run will be interrupted\n",
    "first_run = await client.runs.create(\n",
    "    thread[\"thread_id\"],\n",
    "    assistant[\"assistant_id\"],\n",
    "    input={\"messages\": [{\"role\": \"human\", \"content\": \"whats the weather in sf?\"}]}\n",
    ")"
   ]
  },
  {
   "cell_type": "code",
   "execution_count": 25,
   "id": "4e88b197-5e8c-4d35-ad76-5872b333cc7f",
   "metadata": {},
   "outputs": [],
   "source": [
    "second_run = await client.runs.create(\n",
    "    thread[\"thread_id\"],\n",
    "    assistant[\"assistant_id\"],\n",
    "    input={\"messages\": [{\"role\": \"human\", \"content\": \"whats the weather in nyc?\"}]},\n",
    "    multitask_strategy=\"enqueue\",\n",
    ")"
   ]
  },
  {
   "cell_type": "markdown",
   "id": "0f3a629c-3bfb-436d-a435-d9ce5c715dcb",
   "metadata": {},
   "source": [
    "Verify that the thread has data from both runs"
   ]
  },
  {
   "cell_type": "code",
   "execution_count": 26,
   "id": "79abbf3b-b425-4399-8926-c0af052ac127",
   "metadata": {},
   "outputs": [],
   "source": [
    "# wait until the second run completes\n",
    "await client.runs.join(thread[\"thread_id\"], second_run[\"run_id\"])"
   ]
  },
  {
   "cell_type": "code",
   "execution_count": 27,
   "id": "e45b129b-2592-4f88-ab45-c63585493110",
   "metadata": {},
   "outputs": [],
   "source": [
    "state = await client.threads.get_state(thread[\"thread_id\"])"
   ]
  },
  {
   "cell_type": "code",
   "execution_count": 28,
   "id": "c522cefc-76b7-4c93-81cb-44cd5d7bd98c",
   "metadata": {},
   "outputs": [
    {
     "name": "stdout",
     "output_type": "stream",
     "text": [
      "================================\u001b[1m Human Message \u001b[0m=================================\n",
      "\n",
      "whats the weather in sf?\n",
      "==================================\u001b[1m Ai Message \u001b[0m==================================\n",
      "\n",
      "[{'id': 'toolu_01VFfFcVhgHaYCj8hc4pvx2e', 'input': {'query': 'weather in san francisco'}, 'name': 'tavily_search_results_json', 'type': 'tool_use'}]\n",
      "Tool Calls:\n",
      "  tavily_search_results_json (toolu_01VFfFcVhgHaYCj8hc4pvx2e)\n",
      " Call ID: toolu_01VFfFcVhgHaYCj8hc4pvx2e\n",
      "  Args:\n",
      "    query: weather in san francisco\n",
      "=================================\u001b[1m Tool Message \u001b[0m=================================\n",
      "Name: tavily_search_results_json\n",
      "\n",
      "[{\"url\": \"https://www.weatherapi.com/\", \"content\": \"{'location': {'name': 'San Francisco', 'region': 'California', 'country': 'United States of America', 'lat': 37.78, 'lon': -122.42, 'tz_id': 'America/Los_Angeles', 'localtime_epoch': 1718324566, 'localtime': '2024-06-13 17:22'}, 'current': {'last_updated_epoch': 1718324100, 'last_updated': '2024-06-13 17:15', 'temp_c': 16.7, 'temp_f': 62.1, 'is_day': 1, 'condition': {'text': 'Partly cloudy', 'icon': '//cdn.weatherapi.com/weather/64x64/day/116.png', 'code': 1003}, 'wind_mph': 12.5, 'wind_kph': 20.2, 'wind_degree': 270, 'wind_dir': 'W', 'pressure_mb': 1016.0, 'pressure_in': 29.99, 'precip_mm': 0.0, 'precip_in': 0.0, 'humidity': 65, 'cloud': 25, 'feelslike_c': 16.7, 'feelslike_f': 62.1, 'windchill_c': 12.9, 'windchill_f': 55.2, 'heatindex_c': 14.3, 'heatindex_f': 57.7, 'dewpoint_c': 9.8, 'dewpoint_f': 49.6, 'vis_km': 16.0, 'vis_miles': 9.0, 'uv': 4.0, 'gust_mph': 18.1, 'gust_kph': 29.1}}\"}]\n",
      "==================================\u001b[1m Ai Message \u001b[0m==================================\n",
      "\n",
      "Based on the weather API results, the current weather in San Francisco is partly cloudy with a temperature of around 62°F (17°C). There are some winds around 12-13 mph from the west. Overall, mild spring weather conditions.\n",
      "================================\u001b[1m Human Message \u001b[0m=================================\n",
      "\n",
      "whats the weather in nyc?\n",
      "==================================\u001b[1m Ai Message \u001b[0m==================================\n",
      "\n",
      "[{'id': 'toolu_01XwzhtYjmzY372Ps7H2pbZu', 'input': {'query': 'weather in new york city'}, 'name': 'tavily_search_results_json', 'type': 'tool_use'}]\n",
      "Tool Calls:\n",
      "  tavily_search_results_json (toolu_01XwzhtYjmzY372Ps7H2pbZu)\n",
      " Call ID: toolu_01XwzhtYjmzY372Ps7H2pbZu\n",
      "  Args:\n",
      "    query: weather in new york city\n",
      "=================================\u001b[1m Tool Message \u001b[0m=================================\n",
      "Name: tavily_search_results_json\n",
      "\n",
      "[{\"url\": \"https://www.weatherapi.com/\", \"content\": \"{'location': {'name': 'New York', 'region': 'New York', 'country': 'United States of America', 'lat': 40.71, 'lon': -74.01, 'tz_id': 'America/New_York', 'localtime_epoch': 1718324657, 'localtime': '2024-06-13 20:24'}, 'current': {'last_updated_epoch': 1718324100, 'last_updated': '2024-06-13 20:15', 'temp_c': 24.4, 'temp_f': 75.9, 'is_day': 1, 'condition': {'text': 'Sunny', 'icon': '//cdn.weatherapi.com/weather/64x64/day/113.png', 'code': 1000}, 'wind_mph': 2.2, 'wind_kph': 3.6, 'wind_degree': 177, 'wind_dir': 'S', 'pressure_mb': 1015.0, 'pressure_in': 29.98, 'precip_mm': 0.0, 'precip_in': 0.0, 'humidity': 62, 'cloud': 0, 'feelslike_c': 25.7, 'feelslike_f': 78.3, 'windchill_c': 25.0, 'windchill_f': 77.0, 'heatindex_c': 26.1, 'heatindex_f': 79.1, 'dewpoint_c': 16.2, 'dewpoint_f': 61.2, 'vis_km': 16.0, 'vis_miles': 9.0, 'uv': 6.0, 'gust_mph': 20.2, 'gust_kph': 32.5}}\"}]\n",
      "==================================\u001b[1m Ai Message \u001b[0m==================================\n",
      "\n",
      "According to the weather API, the current weather in New York City is sunny with a temperature of around 76°F (24°C). There are light winds around 2-3 mph from the south. Overall, it's a warm and sunny summer day in NYC.\n"
     ]
    }
   ],
   "source": [
    "for m in convert_to_messages(state[\"values\"][\"messages\"]):\n",
    "    m.pretty_print()"
   ]
  }
 ],
 "metadata": {
  "kernelspec": {
   "display_name": "langgraph-example-dev",
   "language": "python",
   "name": "langgraph-example-dev"
  },
  "language_info": {
   "codemirror_mode": {
    "name": "ipython",
    "version": 3
   },
   "file_extension": ".py",
   "mimetype": "text/x-python",
   "name": "python",
   "nbconvert_exporter": "python",
   "pygments_lexer": "ipython3",
   "version": "3.11.9"
  }
 },
 "nbformat": 4,
 "nbformat_minor": 5
}

{
 "cells": [
  {
   "cell_type": "markdown",
   "id": "51466c8d-8ce4-4b3d-be4e-18fdbeda5f53",
   "metadata": {},
   "source": [
    "# How to handle \"double-texting\" or concurrent runs in your graph\n",
    "\n",
    "You might want to start a new run on a thread while the previous run still haven't finished. We call this \"double-texting\" or multi-tasking.\n",
    "\n",
    "There are several strategies for handling this:\n",
    " \n",
    "- `reject`: Reject the new run\n",
    "- `cancel`: Cancel the existing run and start a new one.\n",
    "- `enqueue`: Wait until the existing run is finished to start the new run."
   ]
  },
  {
   "cell_type": "markdown",
   "id": "19fd3d4d-bfe3-40fb-bd47-53ae0e8012b5",
   "metadata": {},
   "source": [
    "### Reject"
   ]
  },
  {
   "cell_type": "code",
   "execution_count": 1,
   "id": "676d8d5d-e4be-4f19-b344-7525db8e805b",
   "metadata": {},
   "outputs": [],
   "source": [
    "from langgraph_sdk import get_client\n",
    "from langchain_core.messages import convert_to_messages\n",
    "import httpx"
   ]
  },
  {
   "cell_type": "code",
   "execution_count": 2,
   "id": "8a15b47d-d3ac-4aa8-8bf1-35c20fc5067f",
   "metadata": {},
   "outputs": [],
   "source": [
    "client = get_client()"
   ]
  },
  {
   "cell_type": "code",
   "execution_count": 3,
   "id": "2b58be44-a311-487e-a91b-353a3e6a4e13",
   "metadata": {},
   "outputs": [],
   "source": [
    "assistant = await client.assistants.create(\"agent\")"
   ]
  },
  {
   "cell_type": "code",
   "execution_count": 4,
   "id": "39cb7234-1fd7-4fda-a708-da26e4f00556",
   "metadata": {},
   "outputs": [],
   "source": [
    "thread = await client.threads.create()"
   ]
  },
  {
   "cell_type": "code",
   "execution_count": 5,
   "id": "6065166a-337e-4443-9c87-53a865356191",
   "metadata": {},
   "outputs": [],
   "source": [
    "run = await client.runs.create(\n",
    "    thread[\"thread_id\"],\n",
    "    assistant[\"assistant_id\"],\n",
    "    input={\"messages\": [{\"role\": \"human\", \"content\": \"whats the weather in sf?\"}]}\n",
    ")"
   ]
  },
  {
   "cell_type": "code",
   "execution_count": 6,
   "id": "bef2fb51-ece2-4152-8399-d3d902377d95",
   "metadata": {},
   "outputs": [
    {
     "name": "stdout",
     "output_type": "stream",
     "text": [
      "Failed to start concurrent run Client error '409 Conflict' for url 'http://localhost:8123/threads/383cd371-4f40-4927-9e26-ce34a5b1bd05/runs'\n",
      "For more information check: https://developer.mozilla.org/en-US/docs/Web/HTTP/Status/409\n"
     ]
    }
   ],
   "source": [
    "try:\n",
    "    await client.runs.create(\n",
    "        thread[\"thread_id\"],\n",
    "        assistant[\"assistant_id\"],\n",
    "        input={\"messages\": [{\"role\": \"human\", \"content\": \"whats the weather in nyc?\"}]},\n",
    "        multitask_strategy=\"reject\",\n",
    "    )\n",
    "except httpx.HTTPStatusError as e:\n",
    "    print(\"Failed to start concurrent run\", e)"
   ]
  },
  {
   "cell_type": "markdown",
   "id": "cfc9f025-027f-4617-abad-4722ca6fea87",
   "metadata": {},
   "source": [
    "We can verify that the original thread finished executing:"
   ]
  },
  {
   "cell_type": "code",
   "execution_count": 7,
   "id": "094d2ee5-d01e-40ad-875b-3213705ee703",
   "metadata": {},
   "outputs": [],
   "source": [
    "# wait until the original run completes\n",
    "await client.runs.join(thread[\"thread_id\"], run[\"run_id\"])"
   ]
  },
  {
   "cell_type": "code",
   "execution_count": 8,
   "id": "2694e2ac-e02c-443c-b70e-748c779103af",
   "metadata": {},
   "outputs": [],
   "source": [
    "state = await client.threads.get_state(thread[\"thread_id\"])"
   ]
  },
  {
   "cell_type": "code",
   "execution_count": 9,
   "id": "a6ec9609-ab97-4c6d-89f3-717240f244cc",
   "metadata": {},
   "outputs": [
    {
     "name": "stdout",
     "output_type": "stream",
     "text": [
      "================================\u001b[1m Human Message \u001b[0m=================================\n",
      "\n",
      "whats the weather in sf?\n",
      "==================================\u001b[1m Ai Message \u001b[0m==================================\n",
      "\n",
      "[{'id': 'toolu_01GMj4CeDZ82ajYeW411ms62', 'input': {'query': 'weather in san francisco'}, 'name': 'tavily_search_results_json', 'type': 'tool_use'}]\n",
      "Tool Calls:\n",
      "  tavily_search_results_json (toolu_01GMj4CeDZ82ajYeW411ms62)\n",
      " Call ID: toolu_01GMj4CeDZ82ajYeW411ms62\n",
      "  Args:\n",
      "    query: weather in san francisco\n",
      "=================================\u001b[1m Tool Message \u001b[0m=================================\n",
      "Name: tavily_search_results_json\n",
      "\n",
      "[{\"url\": \"https://www.weatherapi.com/\", \"content\": \"{'location': {'name': 'San Francisco', 'region': 'California', 'country': 'United States of America', 'lat': 37.78, 'lon': -122.42, 'tz_id': 'America/Los_Angeles', 'localtime_epoch': 1718286569, 'localtime': '2024-06-13 6:49'}, 'current': {'last_updated_epoch': 1718286300, 'last_updated': '2024-06-13 06:45', 'temp_c': 14.4, 'temp_f': 57.9, 'is_day': 1, 'condition': {'text': 'Overcast', 'icon': '//cdn.weatherapi.com/weather/64x64/day/122.png', 'code': 1009}, 'wind_mph': 2.2, 'wind_kph': 3.6, 'wind_degree': 196, 'wind_dir': 'SSW', 'pressure_mb': 1013.0, 'pressure_in': 29.92, 'precip_mm': 0.01, 'precip_in': 0.0, 'humidity': 84, 'cloud': 100, 'feelslike_c': 13.3, 'feelslike_f': 56.0, 'windchill_c': 9.3, 'windchill_f': 48.8, 'heatindex_c': 11.1, 'heatindex_f': 52.0, 'dewpoint_c': 8.9, 'dewpoint_f': 47.9, 'vis_km': 16.0, 'vis_miles': 9.0, 'uv': 3.0, 'gust_mph': 14.1, 'gust_kph': 22.7}}\"}]\n",
      "==================================\u001b[1m Ai Message \u001b[0m==================================\n",
      "\n",
      "The search results provide the current weather conditions in San Francisco. Some key details:\n",
      "\n",
      "- The temperature is 14.4°C (57.9°F)\n",
      "- It is overcast with 100% cloud cover\n",
      "- The wind is light at 3.6 kph (2.2 mph) from the south-southwest\n",
      "- The humidity is 84%\n",
      "- Visibility is 16 km (9 miles)\n",
      "\n",
      "So in summary, it is a cool, overcast day with light winds and high humidity in San Francisco currently. The weather seems typical for San Francisco with the marine layer of clouds and mild temperatures influenced by the Pacific Ocean.\n"
     ]
    }
   ],
   "source": [
    "for m in convert_to_messages(state[\"values\"][\"messages\"]):\n",
    "    m.pretty_print()"
   ]
  },
  {
   "cell_type": "markdown",
   "id": "73d23fc7-cb94-4378-b64b-85419534b913",
   "metadata": {},
   "source": [
    "### Cancel"
   ]
  },
  {
   "cell_type": "code",
   "execution_count": 10,
   "id": "6243668f-5453-4c2e-9bdc-5f6910a8d2a8",
   "metadata": {},
   "outputs": [],
   "source": [
    "import asyncio"
   ]
  },
  {
   "cell_type": "code",
   "execution_count": 11,
   "id": "0af0b820-2d88-4e5d-b377-1ac5af4df5da",
   "metadata": {},
   "outputs": [],
   "source": [
    "thread = await client.threads.create()"
   ]
  },
  {
   "cell_type": "code",
   "execution_count": 12,
   "id": "5119d336-f308-490b-acd4-7371dbb1bf5f",
   "metadata": {},
   "outputs": [],
   "source": [
    "# the first run will be canceled\n",
    "canceled_run, run = await asyncio.gather(\n",
    "    client.runs.create(\n",
    "        thread[\"thread_id\"], assistant[\"assistant_id\"],\n",
    "        # NOTE: we add a sleep here on purpose, so that we cancel the run before the LLM is called\n",
    "        input={\"messages\": [{\"role\": \"human\", \"content\": \"whats the weather in sf?\"}], \"sleep\": 5},\n",
    "    ),\n",
    "    client.runs.create(\n",
    "        thread[\"thread_id\"],\n",
    "        assistant[\"assistant_id\"],\n",
    "        input={\"messages\": [{\"role\": \"human\", \"content\": \"whats the weather in nyc?\"}]},\n",
    "        multitask_strategy=\"cancel\",\n",
    "    )\n",
    ")"
   ]
  },
  {
   "cell_type": "markdown",
   "id": "968dd191-1f04-4aa1-8606-e9a2c5781d9c",
   "metadata": {},
   "source": [
    "We can see that the thread only has data from the second run"
   ]
  },
  {
   "cell_type": "code",
   "execution_count": 13,
   "id": "3b3bee45-cbe6-4903-bed2-067768260677",
   "metadata": {},
   "outputs": [],
   "source": [
    "# wait until the second run completes\n",
    "await client.runs.join(thread[\"thread_id\"], run[\"run_id\"])"
   ]
  },
  {
   "cell_type": "code",
   "execution_count": 14,
   "id": "410e67d6-8af3-48a8-b312-4f1171973b14",
   "metadata": {},
   "outputs": [],
   "source": [
    "state = await client.threads.get_state(thread[\"thread_id\"])"
   ]
  },
  {
   "cell_type": "code",
   "execution_count": 15,
   "id": "3bde77b5-c755-42a8-a4b3-1a25d70545c2",
   "metadata": {},
   "outputs": [
    {
     "name": "stdout",
     "output_type": "stream",
     "text": [
      "================================\u001b[1m Human Message \u001b[0m=================================\n",
      "\n",
      "whats the weather in nyc?\n",
      "==================================\u001b[1m Ai Message \u001b[0m==================================\n",
      "\n",
      "[{'id': 'toolu_01HfrNGGQ2E7UNgvudpbi5SY', 'input': {'query': 'weather in nyc'}, 'name': 'tavily_search_results_json', 'type': 'tool_use'}]\n",
      "Tool Calls:\n",
      "  tavily_search_results_json (toolu_01HfrNGGQ2E7UNgvudpbi5SY)\n",
      " Call ID: toolu_01HfrNGGQ2E7UNgvudpbi5SY\n",
      "  Args:\n",
      "    query: weather in nyc\n",
      "=================================\u001b[1m Tool Message \u001b[0m=================================\n",
      "Name: tavily_search_results_json\n",
      "\n",
      "[{\"url\": \"https://www.weatherapi.com/\", \"content\": \"{'location': {'name': 'New York', 'region': 'New York', 'country': 'United States of America', 'lat': 40.71, 'lon': -74.01, 'tz_id': 'America/New_York', 'localtime_epoch': 1718286724, 'localtime': '2024-06-13 9:52'}, 'current': {'last_updated_epoch': 1718286300, 'last_updated': '2024-06-13 09:45', 'temp_c': 22.8, 'temp_f': 73.0, 'is_day': 1, 'condition': {'text': 'Sunny', 'icon': '//cdn.weatherapi.com/weather/64x64/day/113.png', 'code': 1000}, 'wind_mph': 2.2, 'wind_kph': 3.6, 'wind_degree': 10, 'wind_dir': 'N', 'pressure_mb': 1018.0, 'pressure_in': 30.05, 'precip_mm': 0.0, 'precip_in': 0.0, 'humidity': 59, 'cloud': 0, 'feelslike_c': 24.7, 'feelslike_f': 76.5, 'windchill_c': 22.9, 'windchill_f': 73.3, 'heatindex_c': 23.9, 'heatindex_f': 75.0, 'dewpoint_c': 12.6, 'dewpoint_f': 54.8, 'vis_km': 16.0, 'vis_miles': 9.0, 'uv': 6.0, 'gust_mph': 6.4, 'gust_kph': 10.4}}\"}]\n",
      "==================================\u001b[1m Ai Message \u001b[0m==================================\n",
      "\n",
      "Based on the weather API results, the current weather in New York City is sunny with a temperature of around 73°F (23°C). The wind is light from the north at around 2-3 mph. Overall it looks like pleasant late spring/early summer weather in NYC.\n"
     ]
    }
   ],
   "source": [
    "for m in convert_to_messages(state[\"values\"][\"messages\"]):\n",
    "    m.pretty_print()"
   ]
  },
  {
   "cell_type": "markdown",
   "id": "5e93518e-a0ef-4541-aa7c-036caf06025c",
   "metadata": {},
   "source": [
    "Verify that the original, canceled run was interrupted"
   ]
  },
  {
   "cell_type": "code",
   "execution_count": 16,
   "id": "f9f275ad-41a5-4b6b-a710-9ca1d0d3e903",
   "metadata": {},
   "outputs": [
    {
     "data": {
      "text/plain": [
       "'interrupted'"
      ]
     },
     "execution_count": 16,
     "metadata": {},
     "output_type": "execute_result"
    }
   ],
   "source": [
    "(await client.runs.get(thread[\"thread_id\"], canceled_run[\"run_id\"]))[\"status\"]"
   ]
  },
  {
   "cell_type": "markdown",
   "id": "69accf95-8480-491a-927a-d7d19d498143",
   "metadata": {},
   "source": [
    "### Enqueue"
   ]
  },
  {
   "cell_type": "code",
   "execution_count": 17,
   "id": "86e7269b-f3f8-4dda-8260-f4522394e36a",
   "metadata": {},
   "outputs": [],
   "source": [
    "thread = await client.threads.create()"
   ]
  },
  {
   "cell_type": "code",
   "execution_count": 18,
   "id": "3bb7b6d0-0999-4541-98b5-d058a3f45333",
   "metadata": {},
   "outputs": [],
   "source": [
    "# this run will be canceled\n",
    "first_run = await client.runs.create(\n",
    "    thread[\"thread_id\"],\n",
    "    assistant[\"assistant_id\"],\n",
    "    input={\"messages\": [{\"role\": \"human\", \"content\": \"whats the weather in sf?\"}]}\n",
    ")"
   ]
  },
  {
   "cell_type": "code",
   "execution_count": 19,
   "id": "4e88b197-5e8c-4d35-ad76-5872b333cc7f",
   "metadata": {},
   "outputs": [],
   "source": [
    "second_run = await client.runs.create(\n",
    "    thread[\"thread_id\"],\n",
    "    assistant[\"assistant_id\"],\n",
    "    input={\"messages\": [{\"role\": \"human\", \"content\": \"whats the weather in nyc?\"}]},\n",
    "    multitask_strategy=\"enqueue\",\n",
    ")"
   ]
  },
  {
   "cell_type": "markdown",
   "id": "0f3a629c-3bfb-436d-a435-d9ce5c715dcb",
   "metadata": {},
   "source": [
    "Verify that the thread has data from both runs"
   ]
  },
  {
   "cell_type": "code",
   "execution_count": 20,
   "id": "79abbf3b-b425-4399-8926-c0af052ac127",
   "metadata": {},
   "outputs": [],
   "source": [
    "# wait until the second run completes\n",
    "await client.runs.join(thread[\"thread_id\"], second_run[\"run_id\"])"
   ]
  },
  {
   "cell_type": "code",
   "execution_count": 21,
   "id": "e45b129b-2592-4f88-ab45-c63585493110",
   "metadata": {},
   "outputs": [],
   "source": [
    "state = await client.threads.get_state(thread[\"thread_id\"])"
   ]
  },
  {
   "cell_type": "code",
   "execution_count": 22,
   "id": "c522cefc-76b7-4c93-81cb-44cd5d7bd98c",
   "metadata": {},
   "outputs": [
    {
     "name": "stdout",
     "output_type": "stream",
     "text": [
      "================================\u001b[1m Human Message \u001b[0m=================================\n",
      "\n",
      "whats the weather in sf?\n",
      "==================================\u001b[1m Ai Message \u001b[0m==================================\n",
      "\n",
      "[{'id': 'toolu_01GMj4CeDZ82ajYeW411ms62', 'input': {'query': 'weather in san francisco'}, 'name': 'tavily_search_results_json', 'type': 'tool_use'}]\n",
      "Tool Calls:\n",
      "  tavily_search_results_json (toolu_01GMj4CeDZ82ajYeW411ms62)\n",
      " Call ID: toolu_01GMj4CeDZ82ajYeW411ms62\n",
      "  Args:\n",
      "    query: weather in san francisco\n",
      "=================================\u001b[1m Tool Message \u001b[0m=================================\n",
      "Name: tavily_search_results_json\n",
      "\n",
      "[{\"url\": \"https://www.weatherapi.com/\", \"content\": \"{'location': {'name': 'San Francisco', 'region': 'California', 'country': 'United States of America', 'lat': 37.78, 'lon': -122.42, 'tz_id': 'America/Los_Angeles', 'localtime_epoch': 1718286569, 'localtime': '2024-06-13 6:49'}, 'current': {'last_updated_epoch': 1718286300, 'last_updated': '2024-06-13 06:45', 'temp_c': 14.4, 'temp_f': 57.9, 'is_day': 1, 'condition': {'text': 'Overcast', 'icon': '//cdn.weatherapi.com/weather/64x64/day/122.png', 'code': 1009}, 'wind_mph': 2.2, 'wind_kph': 3.6, 'wind_degree': 196, 'wind_dir': 'SSW', 'pressure_mb': 1013.0, 'pressure_in': 29.92, 'precip_mm': 0.01, 'precip_in': 0.0, 'humidity': 84, 'cloud': 100, 'feelslike_c': 13.3, 'feelslike_f': 56.0, 'windchill_c': 9.3, 'windchill_f': 48.8, 'heatindex_c': 11.1, 'heatindex_f': 52.0, 'dewpoint_c': 8.9, 'dewpoint_f': 47.9, 'vis_km': 16.0, 'vis_miles': 9.0, 'uv': 3.0, 'gust_mph': 14.1, 'gust_kph': 22.7}}\"}]\n",
      "==================================\u001b[1m Ai Message \u001b[0m==================================\n",
      "\n",
      "The search results provide the current weather conditions in San Francisco. Some key details:\n",
      "\n",
      "- The temperature is 14.4°C (57.9°F)\n",
      "- It is overcast with 100% cloud cover\n",
      "- The wind is light at 3.6 kph (2.2 mph) from the south-southwest\n",
      "- The humidity is 84%\n",
      "- Visibility is 16 km (9 miles)\n",
      "\n",
      "So in summary, it is a cool, overcast day with light winds and high humidity in San Francisco currently. The weather seems typical for San Francisco with the marine layer of clouds and mild temperatures influenced by the Pacific Ocean.\n",
      "================================\u001b[1m Human Message \u001b[0m=================================\n",
      "\n",
      "whats the weather in nyc?\n",
      "==================================\u001b[1m Ai Message \u001b[0m==================================\n",
      "\n",
      "[{'id': 'toolu_01AgR4BsUHNPKNG6wQyFTKtM', 'input': {'query': 'weather in new york city'}, 'name': 'tavily_search_results_json', 'type': 'tool_use'}]\n",
      "Tool Calls:\n",
      "  tavily_search_results_json (toolu_01AgR4BsUHNPKNG6wQyFTKtM)\n",
      " Call ID: toolu_01AgR4BsUHNPKNG6wQyFTKtM\n",
      "  Args:\n",
      "    query: weather in new york city\n",
      "=================================\u001b[1m Tool Message \u001b[0m=================================\n",
      "Name: tavily_search_results_json\n",
      "\n",
      "[{\"url\": \"https://www.weatherapi.com/\", \"content\": \"{'location': {'name': 'New York', 'region': 'New York', 'country': 'United States of America', 'lat': 40.71, 'lon': -74.01, 'tz_id': 'America/New_York', 'localtime_epoch': 1718286724, 'localtime': '2024-06-13 9:52'}, 'current': {'last_updated_epoch': 1718286300, 'last_updated': '2024-06-13 09:45', 'temp_c': 22.8, 'temp_f': 73.0, 'is_day': 1, 'condition': {'text': 'Sunny', 'icon': '//cdn.weatherapi.com/weather/64x64/day/113.png', 'code': 1000}, 'wind_mph': 2.2, 'wind_kph': 3.6, 'wind_degree': 10, 'wind_dir': 'N', 'pressure_mb': 1018.0, 'pressure_in': 30.05, 'precip_mm': 0.0, 'precip_in': 0.0, 'humidity': 59, 'cloud': 0, 'feelslike_c': 24.7, 'feelslike_f': 76.5, 'windchill_c': 22.9, 'windchill_f': 73.3, 'heatindex_c': 23.9, 'heatindex_f': 75.0, 'dewpoint_c': 12.6, 'dewpoint_f': 54.8, 'vis_km': 16.0, 'vis_miles': 9.0, 'uv': 6.0, 'gust_mph': 6.4, 'gust_kph': 10.4}}\"}]\n",
      "==================================\u001b[1m Ai Message \u001b[0m==================================\n",
      "\n",
      "The search results show the current weather conditions in New York City:\n",
      "\n",
      "- Temperature is 22.8°C (73.0°F)\n",
      "- It is sunny with clear skies (0% cloud cover)\n",
      "- Winds are light from the north at 3.6 kph (2.2 mph)  \n",
      "- Humidity is 59%\n",
      "- Visibility is good at 16 km (9 miles)\n",
      "- The UV index is 6.0 which is high\n",
      "\n",
      "So in contrast to the cool, cloudy conditions in San Francisco, New York City is experiencing warm, sunny weather with comfortable humidity levels and good visibility. The high UV index indicates intense sunshine. Overall, it appears to be a nice late spring/early summer day in NYC.\n"
     ]
    }
   ],
   "source": [
    "for m in convert_to_messages(state[\"values\"][\"messages\"]):\n",
    "    m.pretty_print()"
   ]
  }
 ],
 "metadata": {
  "kernelspec": {
   "display_name": "Python 3 (ipykernel)",
   "language": "python",
   "name": "python3"
  },
  "language_info": {
   "codemirror_mode": {
    "name": "ipython",
    "version": 3
   },
   "file_extension": ".py",
   "mimetype": "text/x-python",
   "name": "python",
   "nbconvert_exporter": "python",
   "pygments_lexer": "ipython3",
   "version": "3.11.9"
  }
 },
 "nbformat": 4,
 "nbformat_minor": 5
}

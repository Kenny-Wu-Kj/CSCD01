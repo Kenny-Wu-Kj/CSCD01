{
 "cells": [
  {
   "cell_type": "markdown",
   "id": "51466c8d-8ce4-4b3d-be4e-18fdbeda5f53",
   "metadata": {},
   "source": [
    "# How to handle \"double-texting\" or concurrent runs in your graph\n",
    "\n",
    "You might want to start a new run on a thread while the previous run still haven't finished. We call this \"double-texting\" or multi-tasking.\n",
    "\n",
    "There are several strategies for handling this:\n",
    " \n",
    "- `reject`: Reject the new run\n",
    "- `cancel`: Cancel the existing run and start a new one.\n",
    "- `rollback`: Cancel and delete the existing run, rolling back thread to the state before it had started.\n",
    "- `enqueue`: Wait until the existing run is finished to start the new run."
   ]
  },
  {
   "cell_type": "markdown",
   "id": "19fd3d4d-bfe3-40fb-bd47-53ae0e8012b5",
   "metadata": {},
   "source": [
    "### Reject"
   ]
  },
  {
   "cell_type": "code",
   "execution_count": 1,
   "id": "676d8d5d-e4be-4f19-b344-7525db8e805b",
   "metadata": {},
   "outputs": [],
   "source": [
    "from langgraph_sdk import get_client\n",
    "from langchain_core.messages import convert_to_messages\n",
    "import httpx"
   ]
  },
  {
   "cell_type": "code",
   "execution_count": 2,
   "id": "8a15b47d-d3ac-4aa8-8bf1-35c20fc5067f",
   "metadata": {},
   "outputs": [],
   "source": [
    "client = get_client()"
   ]
  },
  {
   "cell_type": "code",
   "execution_count": 3,
   "id": "2b58be44-a311-487e-a91b-353a3e6a4e13",
   "metadata": {},
   "outputs": [],
   "source": [
    "assistant = await client.assistants.create(\"agent\")"
   ]
  },
  {
   "cell_type": "code",
   "execution_count": 4,
   "id": "39cb7234-1fd7-4fda-a708-da26e4f00556",
   "metadata": {},
   "outputs": [],
   "source": [
    "thread = await client.threads.create()"
   ]
  },
  {
   "cell_type": "code",
   "execution_count": 5,
   "id": "6065166a-337e-4443-9c87-53a865356191",
   "metadata": {},
   "outputs": [],
   "source": [
    "run = await client.runs.create(\n",
    "    thread[\"thread_id\"],\n",
    "    assistant[\"assistant_id\"],\n",
    "    input={\"messages\": [{\"role\": \"human\", \"content\": \"whats the weather in sf?\"}]}\n",
    ")"
   ]
  },
  {
   "cell_type": "code",
   "execution_count": 6,
   "id": "bef2fb51-ece2-4152-8399-d3d902377d95",
   "metadata": {},
   "outputs": [
    {
     "name": "stdout",
     "output_type": "stream",
     "text": [
      "Failed to start concurrent run Client error '409 Conflict' for url 'http://localhost:8123/threads/c0d9cf34-934c-4d01-813e-7828f2e725f0/runs'\n",
      "For more information check: https://developer.mozilla.org/en-US/docs/Web/HTTP/Status/409\n"
     ]
    }
   ],
   "source": [
    "try:\n",
    "    await client.runs.create(\n",
    "        thread[\"thread_id\"],\n",
    "        assistant[\"assistant_id\"],\n",
    "        input={\"messages\": [{\"role\": \"human\", \"content\": \"whats the weather in nyc?\"}]},\n",
    "        multitask_strategy=\"reject\",\n",
    "    )\n",
    "except httpx.HTTPStatusError as e:\n",
    "    print(\"Failed to start concurrent run\", e)"
   ]
  },
  {
   "cell_type": "markdown",
   "id": "cfc9f025-027f-4617-abad-4722ca6fea87",
   "metadata": {},
   "source": [
    "We can verify that the original thread finished executing:"
   ]
  },
  {
   "cell_type": "code",
   "execution_count": 7,
   "id": "2694e2ac-e02c-443c-b70e-748c779103af",
   "metadata": {},
   "outputs": [],
   "source": [
    "state = await client.threads.get_state(thread[\"thread_id\"])"
   ]
  },
  {
   "cell_type": "code",
   "execution_count": 8,
   "id": "a6ec9609-ab97-4c6d-89f3-717240f244cc",
   "metadata": {},
   "outputs": [
    {
     "name": "stdout",
     "output_type": "stream",
     "text": [
      "================================\u001b[1m Human Message \u001b[0m=================================\n",
      "\n",
      "whats the weather in sf?\n",
      "==================================\u001b[1m Ai Message \u001b[0m==================================\n",
      "\n",
      "[{'id': 'toolu_019mUvmKJHarkWEi4SxfX717', 'input': {'query': 'weather in san francisco'}, 'name': 'tavily_search_results_json', 'type': 'tool_use'}]\n",
      "Tool Calls:\n",
      "  tavily_search_results_json (toolu_019mUvmKJHarkWEi4SxfX717)\n",
      " Call ID: toolu_019mUvmKJHarkWEi4SxfX717\n",
      "  Args:\n",
      "    query: weather in san francisco\n",
      "=================================\u001b[1m Tool Message \u001b[0m=================================\n",
      "Name: tavily_search_results_json\n",
      "\n",
      "[{\"url\": \"https://www.weatherapi.com/\", \"content\": \"{'location': {'name': 'San Francisco', 'region': 'California', 'country': 'United States of America', 'lat': 37.78, 'lon': -122.42, 'tz_id': 'America/Los_Angeles', 'localtime_epoch': 1718242421, 'localtime': '2024-06-12 18:33'}, 'current': {'last_updated_epoch': 1718242200, 'last_updated': '2024-06-12 18:30', 'temp_c': 20.6, 'temp_f': 69.1, 'is_day': 1, 'condition': {'text': 'Partly cloudy', 'icon': '//cdn.weatherapi.com/weather/64x64/day/116.png', 'code': 1003}, 'wind_mph': 11.9, 'wind_kph': 19.1, 'wind_degree': 210, 'wind_dir': 'SSW', 'pressure_mb': 1012.0, 'pressure_in': 29.87, 'precip_mm': 0.0, 'precip_in': 0.0, 'humidity': 53, 'cloud': 25, 'feelslike_c': 20.6, 'feelslike_f': 69.1, 'windchill_c': 13.4, 'windchill_f': 56.1, 'heatindex_c': 14.7, 'heatindex_f': 58.5, 'dewpoint_c': 9.4, 'dewpoint_f': 49.0, 'vis_km': 16.0, 'vis_miles': 9.0, 'uv': 4.0, 'gust_mph': 20.1, 'gust_kph': 32.4}}\"}]\n",
      "==================================\u001b[1m Ai Message \u001b[0m==================================\n",
      "\n",
      "Based on the weather API results, the current weather in San Francisco is partly cloudy with a temperature of around 69°F (20.6°C). There are some winds from the south-southwest at around 12 mph (19 km/h). The humidity is 53% and visibility is good at 9 miles (16 km). Overall, it looks like typical pleasant late spring/early summer weather in San Francisco.\n"
     ]
    }
   ],
   "source": [
    "for m in convert_to_messages(state[\"values\"][\"messages\"]):\n",
    "    m.pretty_print()"
   ]
  },
  {
   "cell_type": "markdown",
   "id": "73d23fc7-cb94-4378-b64b-85419534b913",
   "metadata": {},
   "source": [
    "### Cancel"
   ]
  },
  {
   "cell_type": "code",
   "execution_count": 9,
   "id": "0af0b820-2d88-4e5d-b377-1ac5af4df5da",
   "metadata": {},
   "outputs": [],
   "source": [
    "thread = await client.threads.create()"
   ]
  },
  {
   "cell_type": "code",
   "execution_count": 10,
   "id": "27a1392b-86c3-464e-99a8-90ffc965f3ec",
   "metadata": {},
   "outputs": [],
   "source": [
    "# this run will be canceled\n",
    "canceled_run = await client.runs.create(\n",
    "    thread[\"thread_id\"], assistant[\"assistant_id\"],\n",
    "    input={\"messages\": [{\"role\": \"human\", \"content\": \"whats the weather in sf?\"}]}\n",
    ")"
   ]
  },
  {
   "cell_type": "code",
   "execution_count": 11,
   "id": "134b158b-bd17-4c28-9b5a-3039a88a7086",
   "metadata": {},
   "outputs": [],
   "source": [
    "run = await client.runs.create(\n",
    "    thread[\"thread_id\"],\n",
    "    assistant[\"assistant_id\"],\n",
    "    input={\"messages\": [{\"role\": \"human\", \"content\": \"whats the weather in nyc?\"}]},\n",
    "    multitask_strategy=\"cancel\",\n",
    ")"
   ]
  },
  {
   "cell_type": "markdown",
   "id": "968dd191-1f04-4aa1-8606-e9a2c5781d9c",
   "metadata": {},
   "source": [
    "We can see that the thread only has data from the second run"
   ]
  },
  {
   "cell_type": "code",
   "execution_count": null,
   "id": "3b3bee45-cbe6-4903-bed2-067768260677",
   "metadata": {},
   "outputs": [],
   "source": [
    "# wait until the second run completes\n",
    "await client.runs.join(thread[\"thread_id\"], run[\"run_id\"])"
   ]
  },
  {
   "cell_type": "code",
   "execution_count": 19,
   "id": "410e67d6-8af3-48a8-b312-4f1171973b14",
   "metadata": {},
   "outputs": [],
   "source": [
    "state = await client.threads.get_state(thread[\"thread_id\"])"
   ]
  },
  {
   "cell_type": "code",
   "execution_count": 20,
   "id": "2ac9c62e-298f-42e0-9bba-333fcb4378ee",
   "metadata": {},
   "outputs": [
    {
     "name": "stdout",
     "output_type": "stream",
     "text": [
      "================================\u001b[1m Human Message \u001b[0m=================================\n",
      "\n",
      "whats the weather in sf?\n",
      "==================================\u001b[1m Ai Message \u001b[0m==================================\n",
      "\n",
      "[{'id': 'toolu_01GuYpX4P6H9E62Ai4GX7i12', 'input': {'query': 'weather in san francisco'}, 'name': 'tavily_search_results_json', 'type': 'tool_use'}]\n",
      "Tool Calls:\n",
      "  tavily_search_results_json (toolu_01GuYpX4P6H9E62Ai4GX7i12)\n",
      " Call ID: toolu_01GuYpX4P6H9E62Ai4GX7i12\n",
      "  Args:\n",
      "    query: weather in san francisco\n",
      "=================================\u001b[1m Tool Message \u001b[0m=================================\n",
      "Name: tavily_search_results_json\n",
      "\n",
      "[{\"url\": \"https://www.weatherapi.com/\", \"content\": \"{'location': {'name': 'San Francisco', 'region': 'California', 'country': 'United States of America', 'lat': 37.78, 'lon': -122.42, 'tz_id': 'America/Los_Angeles', 'localtime_epoch': 1718242617, 'localtime': '2024-06-12 18:36'}, 'current': {'last_updated_epoch': 1718242200, 'last_updated': '2024-06-12 18:30', 'temp_c': 20.4, 'temp_f': 68.7, 'is_day': 1, 'condition': {'text': 'Sunny', 'icon': '//cdn.weatherapi.com/weather/64x64/day/113.png', 'code': 1000}, 'wind_mph': 9.4, 'wind_kph': 15.1, 'wind_degree': 310, 'wind_dir': 'NW', 'pressure_mb': 1012.0, 'pressure_in': 29.89, 'precip_mm': 0.0, 'precip_in': 0.0, 'humidity': 57, 'cloud': 0, 'feelslike_c': 20.4, 'feelslike_f': 68.7, 'windchill_c': 13.4, 'windchill_f': 56.1, 'heatindex_c': 14.7, 'heatindex_f': 58.5, 'dewpoint_c': 9.4, 'dewpoint_f': 49.0, 'vis_km': 16.0, 'vis_miles': 9.0, 'uv': 4.0, 'gust_mph': 20.1, 'gust_kph': 32.4}}\"}]\n",
      "==================================\u001b[1m Ai Message \u001b[0m==================================\n",
      "\n",
      "Based on the weather API results, the current weather in San Francisco is sunny with a temperature of around 68°F (20°C). There are clear skies with 0% cloud cover, light winds from the northwest around 9-15 mph, and good visibility of 9 miles. Overall it looks like pleasant late spring/early summer weather in San Francisco today.\n",
      "================================\u001b[1m Human Message \u001b[0m=================================\n",
      "\n",
      "whats the weather in nyc?\n",
      "==================================\u001b[1m Ai Message \u001b[0m==================================\n",
      "\n",
      "[{'id': 'toolu_01677YZrcqVTfRf5p5iJfcyf', 'input': {'query': 'weather in new york city'}, 'name': 'tavily_search_results_json', 'type': 'tool_use'}]\n",
      "Tool Calls:\n",
      "  tavily_search_results_json (toolu_01677YZrcqVTfRf5p5iJfcyf)\n",
      " Call ID: toolu_01677YZrcqVTfRf5p5iJfcyf\n",
      "  Args:\n",
      "    query: weather in new york city\n",
      "=================================\u001b[1m Tool Message \u001b[0m=================================\n",
      "Name: tavily_search_results_json\n",
      "\n",
      "[{\"url\": \"https://www.weatherapi.com/\", \"content\": \"{'location': {'name': 'New York', 'region': 'New York', 'country': 'United States of America', 'lat': 40.71, 'lon': -74.01, 'tz_id': 'America/New_York', 'localtime_epoch': 1718242625, 'localtime': '2024-06-12 21:37'}, 'current': {'last_updated_epoch': 1718242200, 'last_updated': '2024-06-12 21:30', 'temp_c': 20.6, 'temp_f': 69.1, 'is_day': 0, 'condition': {'text': 'Clear', 'icon': '//cdn.weatherapi.com/weather/64x64/night/113.png', 'code': 1000}, 'wind_mph': 2.2, 'wind_kph': 3.6, 'wind_degree': 201, 'wind_dir': 'SSW', 'pressure_mb': 1017.0, 'pressure_in': 30.03, 'precip_mm': 0.0, 'precip_in': 0.0, 'humidity': 73, 'cloud': 0, 'feelslike_c': 20.6, 'feelslike_f': 69.1, 'windchill_c': 22.6, 'windchill_f': 72.8, 'heatindex_c': 24.7, 'heatindex_f': 76.5, 'dewpoint_c': 13.2, 'dewpoint_f': 55.7, 'vis_km': 16.0, 'vis_miles': 9.0, 'uv': 1.0, 'gust_mph': 10.5, 'gust_kph': 16.8}}\"}]\n",
      "==================================\u001b[1m Ai Message \u001b[0m==================================\n",
      "\n",
      "According to the weather API, the current weather in New York City is clear with a temperature around 69°F (21°C). It is nighttime with light winds from the south-southwest around 2-4 mph. The humidity is 73% with 0% cloud cover and good visibility of 9 miles. Overall, it appears to be a pleasant, clear evening in NYC.\n"
     ]
    }
   ],
   "source": [
    "# TODO: after fixes this should be < 8\n",
    "for m in convert_to_messages(state[\"values\"][\"messages\"]):\n",
    "    m.pretty_print()"
   ]
  },
  {
   "cell_type": "markdown",
   "id": "5e93518e-a0ef-4541-aa7c-036caf06025c",
   "metadata": {},
   "source": [
    "Verify that the original, canceled run was interrupted"
   ]
  },
  {
   "cell_type": "code",
   "execution_count": 21,
   "id": "f9f275ad-41a5-4b6b-a710-9ca1d0d3e903",
   "metadata": {},
   "outputs": [
    {
     "data": {
      "text/plain": [
       "'interrupted'"
      ]
     },
     "execution_count": 21,
     "metadata": {},
     "output_type": "execute_result"
    }
   ],
   "source": [
    "(await client.runs.get(thread[\"thread_id\"], canceled_run[\"run_id\"]))[\"status\"]"
   ]
  },
  {
   "cell_type": "markdown",
   "id": "446244a3-be6a-4309-a22d-212055a088c5",
   "metadata": {},
   "source": [
    "### Rollback"
   ]
  },
  {
   "cell_type": "code",
   "execution_count": 25,
   "id": "30156613-7f80-4ecb-aa38-066d8aacddaa",
   "metadata": {},
   "outputs": [],
   "source": [
    "thread = await client.threads.create()"
   ]
  },
  {
   "cell_type": "code",
   "execution_count": 26,
   "id": "df21e3d7-cf9e-45b1-9942-837a2b0b64dd",
   "metadata": {},
   "outputs": [],
   "source": [
    "# this run will be canceled\n",
    "rolled_back_run = await client.runs.create(\n",
    "    thread[\"thread_id\"],\n",
    "    assistant[\"assistant_id\"],\n",
    "    input={\"messages\": [{\"role\": \"human\", \"content\": \"whats the weather in sf?\"}]}\n",
    ")"
   ]
  },
  {
   "cell_type": "code",
   "execution_count": 27,
   "id": "528dc289-5c45-4d78-bdfc-718077c2b8e1",
   "metadata": {},
   "outputs": [],
   "source": [
    "run = await client.runs.create(\n",
    "    thread[\"thread_id\"],\n",
    "    assistant[\"assistant_id\"],\n",
    "    input={\"messages\": [{\"role\": \"human\", \"content\": \"whats the weather in nyc?\"}]},\n",
    "    multitask_strategy=\"rollback\",\n",
    ")"
   ]
  },
  {
   "cell_type": "markdown",
   "id": "79c259a4-0de4-4b7d-aeb3-b035a296fdd1",
   "metadata": {},
   "source": [
    "We can see that the thread only has data from the second run"
   ]
  },
  {
   "cell_type": "code",
   "execution_count": 28,
   "id": "ba786e7f-9d96-4527-9783-a886ec3f4572",
   "metadata": {},
   "outputs": [],
   "source": [
    "# wait until the second run completes\n",
    "await client.runs.join(thread[\"thread_id\"], run[\"run_id\"])"
   ]
  },
  {
   "cell_type": "code",
   "execution_count": 29,
   "id": "957cb54b-0e73-4448-b7b8-261a5f1f1c7f",
   "metadata": {},
   "outputs": [],
   "source": [
    "state = await client.threads.get_state(thread[\"thread_id\"])"
   ]
  },
  {
   "cell_type": "code",
   "execution_count": 30,
   "id": "6d6c89b9-5456-48a6-b479-33ba9a228044",
   "metadata": {},
   "outputs": [
    {
     "name": "stdout",
     "output_type": "stream",
     "text": [
      "================================\u001b[1m Human Message \u001b[0m=================================\n",
      "\n",
      "whats the weather in sf?\n",
      "==================================\u001b[1m Ai Message \u001b[0m==================================\n",
      "\n",
      "[{'id': 'toolu_018XxkyjJQY9SwsjsJGwRxCQ', 'input': {'query': 'weather in san francisco'}, 'name': 'tavily_search_results_json', 'type': 'tool_use'}]\n",
      "Tool Calls:\n",
      "  tavily_search_results_json (toolu_018XxkyjJQY9SwsjsJGwRxCQ)\n",
      " Call ID: toolu_018XxkyjJQY9SwsjsJGwRxCQ\n",
      "  Args:\n",
      "    query: weather in san francisco\n",
      "=================================\u001b[1m Tool Message \u001b[0m=================================\n",
      "Name: tavily_search_results_json\n",
      "\n",
      "[{\"url\": \"https://www.weatherapi.com/\", \"content\": \"{'location': {'name': 'San Francisco', 'region': 'California', 'country': 'United States of America', 'lat': 37.78, 'lon': -122.42, 'tz_id': 'America/Los_Angeles', 'localtime_epoch': 1718242617, 'localtime': '2024-06-12 18:36'}, 'current': {'last_updated_epoch': 1718242200, 'last_updated': '2024-06-12 18:30', 'temp_c': 20.4, 'temp_f': 68.7, 'is_day': 1, 'condition': {'text': 'Sunny', 'icon': '//cdn.weatherapi.com/weather/64x64/day/113.png', 'code': 1000}, 'wind_mph': 9.4, 'wind_kph': 15.1, 'wind_degree': 310, 'wind_dir': 'NW', 'pressure_mb': 1012.0, 'pressure_in': 29.89, 'precip_mm': 0.0, 'precip_in': 0.0, 'humidity': 57, 'cloud': 0, 'feelslike_c': 20.4, 'feelslike_f': 68.7, 'windchill_c': 13.4, 'windchill_f': 56.1, 'heatindex_c': 14.7, 'heatindex_f': 58.5, 'dewpoint_c': 9.4, 'dewpoint_f': 49.0, 'vis_km': 16.0, 'vis_miles': 9.0, 'uv': 4.0, 'gust_mph': 20.1, 'gust_kph': 32.4}}\"}]\n",
      "==================================\u001b[1m Ai Message \u001b[0m==================================\n",
      "\n",
      "Based on the weather API results, the current weather in San Francisco is sunny with a temperature of around 68°F (20°C). There are clear skies with 0% cloud cover, light winds from the northwest around 9-15 mph, and good visibility of 9 miles. Overall it looks like pleasant late spring/early summer weather in San Francisco today.\n",
      "================================\u001b[1m Human Message \u001b[0m=================================\n",
      "\n",
      "whats the weather in nyc?\n",
      "==================================\u001b[1m Ai Message \u001b[0m==================================\n",
      "\n",
      "[{'id': 'toolu_011BtsqXG3PfPP49QFW3ui5Q', 'input': {'query': 'weather in new york city'}, 'name': 'tavily_search_results_json', 'type': 'tool_use'}]\n",
      "Tool Calls:\n",
      "  tavily_search_results_json (toolu_011BtsqXG3PfPP49QFW3ui5Q)\n",
      " Call ID: toolu_011BtsqXG3PfPP49QFW3ui5Q\n",
      "  Args:\n",
      "    query: weather in new york city\n",
      "=================================\u001b[1m Tool Message \u001b[0m=================================\n",
      "Name: tavily_search_results_json\n",
      "\n",
      "[{\"url\": \"https://www.weatherapi.com/\", \"content\": \"{'location': {'name': 'New York', 'region': 'New York', 'country': 'United States of America', 'lat': 40.71, 'lon': -74.01, 'tz_id': 'America/New_York', 'localtime_epoch': 1718242625, 'localtime': '2024-06-12 21:37'}, 'current': {'last_updated_epoch': 1718242200, 'last_updated': '2024-06-12 21:30', 'temp_c': 20.6, 'temp_f': 69.1, 'is_day': 0, 'condition': {'text': 'Clear', 'icon': '//cdn.weatherapi.com/weather/64x64/night/113.png', 'code': 1000}, 'wind_mph': 2.2, 'wind_kph': 3.6, 'wind_degree': 201, 'wind_dir': 'SSW', 'pressure_mb': 1017.0, 'pressure_in': 30.03, 'precip_mm': 0.0, 'precip_in': 0.0, 'humidity': 73, 'cloud': 0, 'feelslike_c': 20.6, 'feelslike_f': 69.1, 'windchill_c': 22.6, 'windchill_f': 72.8, 'heatindex_c': 24.7, 'heatindex_f': 76.5, 'dewpoint_c': 13.2, 'dewpoint_f': 55.7, 'vis_km': 16.0, 'vis_miles': 9.0, 'uv': 1.0, 'gust_mph': 10.5, 'gust_kph': 16.8}}\"}]\n",
      "==================================\u001b[1m Ai Message \u001b[0m==================================\n",
      "\n",
      "According to the weather API, the current weather in New York City is clear with a temperature around 69°F (21°C). It is nighttime with light winds from the south-southwest around 2-4 mph. The humidity is 73% with 0% cloud cover and good visibility of 9 miles. Overall, it appears to be a pleasant, clear evening in NYC.\n"
     ]
    }
   ],
   "source": [
    "# TODO: after fixes this should be < 8 messages\n",
    "for m in convert_to_messages(state[\"values\"][\"messages\"]):\n",
    "    m.pretty_print()"
   ]
  },
  {
   "cell_type": "markdown",
   "id": "52b3a741-b082-413b-bfb1-db729630f710",
   "metadata": {},
   "source": [
    "Verify that the original, rolled back run was deleted -- we should get the error message here"
   ]
  },
  {
   "cell_type": "code",
   "execution_count": 31,
   "id": "520f0040-0527-401c-ae38-c4a5f55155bf",
   "metadata": {},
   "outputs": [
    {
     "name": "stdout",
     "output_type": "stream",
     "text": [
      "Couldn't retrieve deleted run Client error '404 Not Found' for url 'http://localhost:8123/threads/54254cc2-b487-4346-a079-6546af258079/runs/1ef2925b-198f-6fc6-810e-b991b59e4352'\n",
      "For more information check: https://developer.mozilla.org/en-US/docs/Web/HTTP/Status/404\n"
     ]
    }
   ],
   "source": [
    "try:\n",
    "    await client.runs.get(thread[\"thread_id\"], rolled_back_run[\"run_id\"])\n",
    "except httpx.HTTPStatusError as e:\n",
    "    print(\"Couldn't retrieve deleted run\", e)"
   ]
  },
  {
   "cell_type": "markdown",
   "id": "69accf95-8480-491a-927a-d7d19d498143",
   "metadata": {},
   "source": [
    "### Enqueue"
   ]
  },
  {
   "cell_type": "code",
   "execution_count": 32,
   "id": "86e7269b-f3f8-4dda-8260-f4522394e36a",
   "metadata": {},
   "outputs": [],
   "source": [
    "thread = await client.threads.create()"
   ]
  },
  {
   "cell_type": "code",
   "execution_count": 33,
   "id": "3bb7b6d0-0999-4541-98b5-d058a3f45333",
   "metadata": {},
   "outputs": [],
   "source": [
    "# this run will be canceled\n",
    "first_run = await client.runs.create(\n",
    "    thread[\"thread_id\"],\n",
    "    assistant[\"assistant_id\"],\n",
    "    input={\"messages\": [{\"role\": \"human\", \"content\": \"whats the weather in sf?\"}]}\n",
    ")"
   ]
  },
  {
   "cell_type": "code",
   "execution_count": 34,
   "id": "4e88b197-5e8c-4d35-ad76-5872b333cc7f",
   "metadata": {},
   "outputs": [],
   "source": [
    "second_run = await client.runs.create(\n",
    "    thread[\"thread_id\"],\n",
    "    assistant[\"assistant_id\"],\n",
    "    input={\"messages\": [{\"role\": \"human\", \"content\": \"whats the weather in nyc?\"}]},\n",
    "    multitask_strategy=\"enqueue\",\n",
    ")"
   ]
  },
  {
   "cell_type": "markdown",
   "id": "0f3a629c-3bfb-436d-a435-d9ce5c715dcb",
   "metadata": {},
   "source": [
    "Verify that the thread has data from both runs"
   ]
  },
  {
   "cell_type": "code",
   "execution_count": null,
   "id": "79abbf3b-b425-4399-8926-c0af052ac127",
   "metadata": {},
   "outputs": [],
   "source": [
    "# wait until the second run completes\n",
    "await client.runs.join(thread[\"thread_id\"], second_run[\"run_id\"])"
   ]
  },
  {
   "cell_type": "code",
   "execution_count": null,
   "id": "e45b129b-2592-4f88-ab45-c63585493110",
   "metadata": {},
   "outputs": [],
   "source": [
    "state = await client.threads.get_state(thread[\"thread_id\"])"
   ]
  },
  {
   "cell_type": "code",
   "execution_count": null,
   "id": "c522cefc-76b7-4c93-81cb-44cd5d7bd98c",
   "metadata": {},
   "outputs": [],
   "source": [
    "for m in convert_to_messages(state[\"values\"][\"messages\"]):\n",
    "    m.pretty_print()"
   ]
  }
 ],
 "metadata": {
  "kernelspec": {
   "display_name": "Python 3 (ipykernel)",
   "language": "python",
   "name": "python3"
  },
  "language_info": {
   "codemirror_mode": {
    "name": "ipython",
    "version": 3
   },
   "file_extension": ".py",
   "mimetype": "text/x-python",
   "name": "python",
   "nbconvert_exporter": "python",
   "pygments_lexer": "ipython3",
   "version": "3.11.9"
  }
 },
 "nbformat": 4,
 "nbformat_minor": 5
}

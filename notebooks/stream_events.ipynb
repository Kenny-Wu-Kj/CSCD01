{
 "cells": [
  {
   "cell_type": "markdown",
   "id": "51466c8d-8ce4-4b3d-be4e-18fdbeda5f53",
   "metadata": {},
   "source": [
    "# How to stream updates from your graph\n",
    "\n",
    "This notebook covers how to stream events from your graph.\n",
    "In this case, we are streaming updates to the graph.\n",
    "Updates are what each node returns.\n",
    "To see how to stream tokens from an LLM call that happens inside a graph, see a separate guide."
   ]
  },
  {
   "cell_type": "code",
   "execution_count": 1,
   "id": "521d975b-e94b-4c37-bfa1-82d969e2a4dc",
   "metadata": {},
   "outputs": [],
   "source": [
    "from langgraph_sdk import get_client"
   ]
  },
  {
   "cell_type": "code",
   "execution_count": 2,
   "id": "27a1392b-86c3-464e-99a8-90ffc965f3ec",
   "metadata": {},
   "outputs": [],
   "source": [
    "client = get_client()"
   ]
  },
  {
   "cell_type": "code",
   "execution_count": 4,
   "id": "4947e9bc-111f-4991-8c41-1041da9bf0ba",
   "metadata": {},
   "outputs": [
    {
     "data": {
      "text/plain": [
       "[{'assistant_id': 'fe096781-5601-53d2-b2f6-0d3403f7e9ca',\n",
       "  'graph_id': 'agent',\n",
       "  'config': {},\n",
       "  'created_at': '2024-05-18T00:19:39.688822+00:00',\n",
       "  'updated_at': '2024-05-18T00:19:39.688822+00:00',\n",
       "  'metadata': {'created_by': 'system'}}]"
      ]
     },
     "execution_count": 4,
     "metadata": {},
     "output_type": "execute_result"
    }
   ],
   "source": [
    "assistants = await client.assistants.search()\n",
    "assistants"
   ]
  },
  {
   "cell_type": "code",
   "execution_count": 9,
   "id": "230c0464-a6e5-420f-9e38-ca514e5634ce",
   "metadata": {},
   "outputs": [
    {
     "data": {
      "text/plain": [
       "{'assistant_id': 'fe096781-5601-53d2-b2f6-0d3403f7e9ca',\n",
       " 'graph_id': 'agent',\n",
       " 'config': {},\n",
       " 'created_at': '2024-05-18T00:19:39.688822+00:00',\n",
       " 'updated_at': '2024-05-18T00:19:39.688822+00:00',\n",
       " 'metadata': {'created_by': 'system'}}"
      ]
     },
     "execution_count": 9,
     "metadata": {},
     "output_type": "execute_result"
    }
   ],
   "source": [
    "assistant = assistants[0]\n",
    "assistant"
   ]
  },
  {
   "cell_type": "code",
   "execution_count": 10,
   "id": "56aa5159-5583-4134-9210-709b969bda6f",
   "metadata": {},
   "outputs": [
    {
     "data": {
      "text/plain": [
       "{'thread_id': 'fc678010-2c10-4635-9c17-04fd9e2aff65',\n",
       " 'created_at': '2024-05-18T00:49:56.213602+00:00',\n",
       " 'updated_at': '2024-05-18T00:49:56.213602+00:00',\n",
       " 'metadata': {}}"
      ]
     },
     "execution_count": 10,
     "metadata": {},
     "output_type": "execute_result"
    }
   ],
   "source": [
    "thread = await client.threads.create()\n",
    "thread"
   ]
  },
  {
   "cell_type": "code",
   "execution_count": 11,
   "id": "147c3f98-f889-4f05-a090-6b31f2a0b291",
   "metadata": {},
   "outputs": [
    {
     "data": {
      "text/plain": [
       "[]"
      ]
     },
     "execution_count": 11,
     "metadata": {},
     "output_type": "execute_result"
    }
   ],
   "source": [
    "runs = await client.runs.list(thread['thread_id'])\n",
    "runs"
   ]
  },
  {
   "cell_type": "code",
   "execution_count": 12,
   "id": "7da70e20-1a4e-4df2-b996-1927f474c835",
   "metadata": {},
   "outputs": [
    {
     "name": "stdout",
     "output_type": "stream",
     "text": [
      "StreamPart(event='metadata', data={'run_id': 'd18658cc-18b1-4513-85ed-8b1c81110027'})\n",
      "StreamPart(event='data', data={'messages': [{'role': 'human', 'content': 'whats the weather in la'}]})\n",
      "StreamPart(event='data', data={'messages': [{'content': 'whats the weather in la', 'additional_kwargs': {}, 'response_metadata': {}, 'type': 'human', 'name': None, 'id': '41c254f4-58e7-4b4c-aff9-5cab795ad389', 'example': False}, {'content': [{'id': 'toolu_01NhGATv5772h222D15t2vkq', 'input': {'query': 'weather in los angeles'}, 'name': 'tavily_search_results_json', 'type': 'tool_use'}], 'additional_kwargs': {}, 'response_metadata': {}, 'type': 'ai', 'name': None, 'id': 'run-f89a08cd-3936-46e0-8096-e6879c89331e', 'example': False, 'tool_calls': [{'name': 'tavily_search_results_json', 'args': {'query': 'weather in los angeles'}, 'id': 'toolu_01NhGATv5772h222D15t2vkq'}], 'invalid_tool_calls': []}]})\n",
      "StreamPart(event='data', data={'messages': [{'content': 'whats the weather in la', 'additional_kwargs': {}, 'response_metadata': {}, 'type': 'human', 'name': None, 'id': '41c254f4-58e7-4b4c-aff9-5cab795ad389', 'example': False}, {'content': [{'id': 'toolu_01NhGATv5772h222D15t2vkq', 'input': {'query': 'weather in los angeles'}, 'name': 'tavily_search_results_json', 'type': 'tool_use'}], 'additional_kwargs': {}, 'response_metadata': {}, 'type': 'ai', 'name': None, 'id': 'run-f89a08cd-3936-46e0-8096-e6879c89331e', 'example': False, 'tool_calls': [{'name': 'tavily_search_results_json', 'args': {'query': 'weather in los angeles'}, 'id': 'toolu_01NhGATv5772h222D15t2vkq'}], 'invalid_tool_calls': []}, {'content': '[{\"url\": \"https://www.weatherapi.com/\", \"content\": \"{\\'location\\': {\\'name\\': \\'Los Angeles\\', \\'region\\': \\'California\\', \\'country\\': \\'United States of America\\', \\'lat\\': 34.05, \\'lon\\': -118.24, \\'tz_id\\': \\'America/Los_Angeles\\', \\'localtime_epoch\\': 1715993380, \\'localtime\\': \\'2024-05-17 17:49\\'}, \\'current\\': {\\'last_updated_epoch\\': 1715993100, \\'last_updated\\': \\'2024-05-17 17:45\\', \\'temp_c\\': 20.0, \\'temp_f\\': 68.0, \\'is_day\\': 1, \\'condition\\': {\\'text\\': \\'Overcast\\', \\'icon\\': \\'//cdn.weatherapi.com/weather/64x64/day/122.png\\', \\'code\\': 1009}, \\'wind_mph\\': 2.2, \\'wind_kph\\': 3.6, \\'wind_degree\\': 10, \\'wind_dir\\': \\'N\\', \\'pressure_mb\\': 1013.0, \\'pressure_in\\': 29.9, \\'precip_mm\\': 0.0, \\'precip_in\\': 0.0, \\'humidity\\': 61, \\'cloud\\': 100, \\'feelslike_c\\': 20.0, \\'feelslike_f\\': 68.0, \\'vis_km\\': 16.0, \\'vis_miles\\': 9.0, \\'uv\\': 6.0, \\'gust_mph\\': 12.3, \\'gust_kph\\': 19.9}}\"}]', 'additional_kwargs': {}, 'response_metadata': {}, 'type': 'tool', 'name': 'tavily_search_results_json', 'id': '2fda230e-2a44-4652-a8e8-788260f60448', 'tool_call_id': 'toolu_01NhGATv5772h222D15t2vkq'}]})\n",
      "StreamPart(event='data', data={'messages': [{'content': 'whats the weather in la', 'additional_kwargs': {}, 'response_metadata': {}, 'type': 'human', 'name': None, 'id': '41c254f4-58e7-4b4c-aff9-5cab795ad389', 'example': False}, {'content': [{'id': 'toolu_01NhGATv5772h222D15t2vkq', 'input': {'query': 'weather in los angeles'}, 'name': 'tavily_search_results_json', 'type': 'tool_use'}], 'additional_kwargs': {}, 'response_metadata': {}, 'type': 'ai', 'name': None, 'id': 'run-f89a08cd-3936-46e0-8096-e6879c89331e', 'example': False, 'tool_calls': [{'name': 'tavily_search_results_json', 'args': {'query': 'weather in los angeles'}, 'id': 'toolu_01NhGATv5772h222D15t2vkq'}], 'invalid_tool_calls': []}, {'content': '[{\"url\": \"https://www.weatherapi.com/\", \"content\": \"{\\'location\\': {\\'name\\': \\'Los Angeles\\', \\'region\\': \\'California\\', \\'country\\': \\'United States of America\\', \\'lat\\': 34.05, \\'lon\\': -118.24, \\'tz_id\\': \\'America/Los_Angeles\\', \\'localtime_epoch\\': 1715993380, \\'localtime\\': \\'2024-05-17 17:49\\'}, \\'current\\': {\\'last_updated_epoch\\': 1715993100, \\'last_updated\\': \\'2024-05-17 17:45\\', \\'temp_c\\': 20.0, \\'temp_f\\': 68.0, \\'is_day\\': 1, \\'condition\\': {\\'text\\': \\'Overcast\\', \\'icon\\': \\'//cdn.weatherapi.com/weather/64x64/day/122.png\\', \\'code\\': 1009}, \\'wind_mph\\': 2.2, \\'wind_kph\\': 3.6, \\'wind_degree\\': 10, \\'wind_dir\\': \\'N\\', \\'pressure_mb\\': 1013.0, \\'pressure_in\\': 29.9, \\'precip_mm\\': 0.0, \\'precip_in\\': 0.0, \\'humidity\\': 61, \\'cloud\\': 100, \\'feelslike_c\\': 20.0, \\'feelslike_f\\': 68.0, \\'vis_km\\': 16.0, \\'vis_miles\\': 9.0, \\'uv\\': 6.0, \\'gust_mph\\': 12.3, \\'gust_kph\\': 19.9}}\"}]', 'additional_kwargs': {}, 'response_metadata': {}, 'type': 'tool', 'name': 'tavily_search_results_json', 'id': '2fda230e-2a44-4652-a8e8-788260f60448', 'tool_call_id': 'toolu_01NhGATv5772h222D15t2vkq'}, {'content': 'The search results provide the current weather conditions in Los Angeles, California. According to the results, as of 5:49pm on May 17, 2024, the weather in Los Angeles is overcast with a temperature of 68°F (20°C). The wind is light from the north at 3.6 kph (2.2 mph). The humidity is 61% and visibility is 16 km (9 miles). There is no precipitation at the moment.\\n\\nSo in summary, the weather in Los Angeles is mild with overcast skies and comfortable temperatures in the upper 60s Fahrenheit. The conditions seem typical for a spring day in LA.', 'additional_kwargs': {}, 'response_metadata': {}, 'type': 'ai', 'name': None, 'id': 'run-1321e5fc-30ef-44cd-b44f-edcb6c511675', 'example': False, 'tool_calls': [], 'invalid_tool_calls': []}]})\n",
      "StreamPart(event='end', data=None)\n"
     ]
    }
   ],
   "source": [
    "input = {\"messages\": [{\"role\": \"human\", \"content\": \"whats the weather in la\"}]}\n",
    "async for chunk in client.runs.stream(thread['thread_id'], assistant['assistant_id'], input=input):\n",
    "    print(chunk)"
   ]
  },
  {
   "cell_type": "code",
   "execution_count": null,
   "id": "8fa206ed-515e-4607-9a80-bebafe76cc24",
   "metadata": {},
   "outputs": [],
   "source": []
  }
 ],
 "metadata": {
  "kernelspec": {
   "display_name": "Python 3 (ipykernel)",
   "language": "python",
   "name": "python3"
  },
  "language_info": {
   "codemirror_mode": {
    "name": "ipython",
    "version": 3
   },
   "file_extension": ".py",
   "mimetype": "text/x-python",
   "name": "python",
   "nbconvert_exporter": "python",
   "pygments_lexer": "ipython3",
   "version": "3.11.1"
  }
 },
 "nbformat": 4,
 "nbformat_minor": 5
}
